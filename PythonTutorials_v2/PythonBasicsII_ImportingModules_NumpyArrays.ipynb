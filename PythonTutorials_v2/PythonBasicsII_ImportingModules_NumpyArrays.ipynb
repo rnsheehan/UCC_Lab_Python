{
 "cells": [
  {
   "cell_type": "markdown",
   "id": "3afeccc1-bfe3-48ea-8ae3-ab828d698790",
   "metadata": {},
   "source": [
    "# Python Modules and Packages\n",
    "\n",
    "These are pre-made code that can be installed. Many useful packages already installed when you acquired Anaconda and installed it. Packages contain collections of \"modules\", individual python files. You can import individual modules or often packages themselves, which collect a lot of individual functionalities into a single package (hence the name)."
   ]
  },
  {
   "cell_type": "markdown",
   "id": "3440fc80-b7c4-470b-8ec6-3b23dde39e30",
   "metadata": {},
   "source": [
    "## Import\n",
    "\n",
    "Before a module can be used, it must first be *imported*. There are three ways to import from a module. One can write \n",
    "`import module` or `import module as mo` to gain access to all content of the module. Alternatively, one can write `from module import fooX, fooY, fooZ`.\n",
    "\n",
    "The key difference between the importing methods is in how functions from the module are called. For example, say you wanted to make use of fooX from module. The following versions of code calls the same function in different ways.\n",
    "\n",
    "```python\n",
    "import module\n",
    "module.fooX\n",
    "```\n",
    "\n",
    "```python\n",
    "import module as mo\n",
    "mo.fooX\n",
    "```\n",
    "\n",
    "```python\n",
    "from module import fooX\n",
    "fooX\n",
    "```\n",
    "\n",
    "There may be cases where you must be careful with the last option. For example, if there is already a function named fooX, importing another fooX can complicate things."
   ]
  },
  {
   "cell_type": "markdown",
   "id": "3c2bcc8b-15e8-44d5-9013-81d4e1c2a4e7",
   "metadata": {},
   "source": [
    "# The Math Module\n",
    "\n",
    "The main role of this module is provide functions for number manipulation."
   ]
  },
  {
   "cell_type": "code",
   "execution_count": null,
   "id": "22ca58ae-1096-46cc-82dc-6c73c925fe16",
   "metadata": {},
   "outputs": [],
   "source": [
    "import math\n",
    "\n",
    "number = -14.17\n",
    "\n",
    "print('The given number is :', number)\n",
    "print('Floor value is :', math.floor(number))\n",
    "print('Ceiling value is :', math.ceil(number))\n",
    "print('Absolute value is :', math.fabs(number))"
   ]
  },
  {
   "cell_type": "code",
   "execution_count": null,
   "id": "a0a2526e-3c3d-4c0e-a519-3e2aa9c9465c",
   "metadata": {},
   "outputs": [],
   "source": [
    "print(\"The value of e is:\",math.e)\n",
    "print(\"The value of pi is:\",math.pi)"
   ]
  },
  {
   "cell_type": "code",
   "execution_count": null,
   "id": "e1ab4836-da16-4c83-878c-c4b26ee0e0c6",
   "metadata": {},
   "outputs": [],
   "source": [
    "angleInDegree = 9\n",
    "angleInRadian = math.radians(angleInDegree)\n",
    "\n",
    "print('The given angle is :', angleInRadian)\n",
    "print('sin(x) is :', math.sin(angleInRadian))\n",
    "print('cos(x) is :', math.cos(angleInRadian))\n",
    "print('tan(x) is :', math.tan(angleInRadian))"
   ]
  },
  {
   "cell_type": "markdown",
   "id": "c84a599f-e7ab-4f11-b444-515b9e658066",
   "metadata": {},
   "source": [
    "Of course, a math module would not be complete with a square root, power and log function."
   ]
  },
  {
   "cell_type": "code",
   "execution_count": null,
   "id": "1402b9b5-c06c-4c2b-9faf-c47c5ef910fb",
   "metadata": {},
   "outputs": [],
   "source": [
    "number=5\n",
    "print(math.sqrt(number))\n",
    "print(math.pow(number,4))\n",
    "print(math.log(number))\n",
    "print(math.log10(number))"
   ]
  },
  {
   "cell_type": "markdown",
   "id": "edcc93e8-6f72-4c94-b6a4-8defb4feb181",
   "metadata": {},
   "source": [
    "There is much more to the math module (documented [here](https://docs.python.org/3/library/math.html)), but these are the basics."
   ]
  },
  {
   "cell_type": "markdown",
   "id": "e4a0fdd8-5f45-4dab-946e-ed9785bb5dfe",
   "metadata": {},
   "source": [
    "# Making Array Objects with Numpy\n",
    "\n",
    "This is another very important module that allows us to create a new type of object: arrays. These are similar to lists, but will allow a lot of really useful functionality, as we will see."
   ]
  },
  {
   "cell_type": "code",
   "execution_count": null,
   "id": "a7d94cef-c30e-4a33-8b79-020b17f5e950",
   "metadata": {},
   "outputs": [],
   "source": [
    "import numpy as np #first we have to import the code! I like to call it np for short"
   ]
  },
  {
   "cell_type": "markdown",
   "id": "bdd1972e-f17e-41c4-92a2-6f62d045f21d",
   "metadata": {},
   "source": [
    "Numpy can turn a normal list into an array very simply"
   ]
  },
  {
   "cell_type": "code",
   "execution_count": null,
   "id": "b37743d2-2194-42ee-bfe1-656bc8380159",
   "metadata": {},
   "outputs": [],
   "source": [
    "mylist = [-2, 1, 0, 3.5]\n",
    "myarray = np.array(mylist)\n",
    "myarray"
   ]
  },
  {
   "cell_type": "markdown",
   "id": "5353a30e-4950-45a8-866d-567c6ac31975",
   "metadata": {},
   "source": [
    "An important strength of array objects is that they let you perform operations on the entire set of numbers all at once!"
   ]
  },
  {
   "cell_type": "code",
   "execution_count": null,
   "id": "de559546-b925-4903-967c-d1f90eb2e07d",
   "metadata": {},
   "outputs": [],
   "source": [
    "myarray**2"
   ]
  },
  {
   "cell_type": "code",
   "execution_count": null,
   "id": "0d0ce0af-676a-4f23-bc39-9ea0abaebe74",
   "metadata": {},
   "outputs": [],
   "source": [
    "myarray+1"
   ]
  },
  {
   "cell_type": "code",
   "execution_count": null,
   "id": "1069919a-60e9-4923-b27c-c3fdf6c9b3a7",
   "metadata": {},
   "outputs": [],
   "source": [
    "myarray * 5"
   ]
  },
  {
   "cell_type": "markdown",
   "id": "2ce09d78-8676-439c-86da-0cf48a4e2eb5",
   "metadata": {},
   "source": [
    "When you have two arrays of the same size/shape you can even add/subtract, multiple/divide them together"
   ]
  },
  {
   "cell_type": "code",
   "execution_count": null,
   "id": "bdf28aaf-af29-4a3b-9f1f-d2e7bb187e44",
   "metadata": {},
   "outputs": [],
   "source": [
    "anotherarray = np.array([1,2,3,4])\n",
    "myarray+anotherarray"
   ]
  },
  {
   "cell_type": "code",
   "execution_count": null,
   "id": "d1de7ad1-78a8-47a8-bd6a-dd8cb26fabb6",
   "metadata": {},
   "outputs": [],
   "source": [
    "myarray*anotherarray"
   ]
  },
  {
   "cell_type": "code",
   "execution_count": null,
   "id": "42e9cca9-6b30-4629-80c2-ff4d4fc69f79",
   "metadata": {},
   "outputs": [],
   "source": [
    "myarray/anotherarray"
   ]
  },
  {
   "cell_type": "markdown",
   "id": "94f00f9a-6df8-4812-a6dc-740b72490c93",
   "metadata": {},
   "source": [
    "## Appending Arrays \n",
    "\n",
    "it is possible to add values to an array using `np.append()`"
   ]
  },
  {
   "cell_type": "code",
   "execution_count": null,
   "id": "5bc795ee-bd47-4415-9872-5c3b539f7e16",
   "metadata": {},
   "outputs": [],
   "source": [
    "# This will add a 0 at the start of the original array\n",
    "a = np.arange(10)\n",
    "print(\"original\", a)\n",
    "b = np.append(0,a)\n",
    "print(\"new:\", b)"
   ]
  },
  {
   "cell_type": "code",
   "execution_count": null,
   "id": "a89f72b9-acf5-4a33-93ff-e027363e0cf7",
   "metadata": {},
   "outputs": [],
   "source": [
    "# Similarly this will put a 10 and an 11 at the end of the original array\n",
    "# Note that the arguments don't have to be arrays!\n",
    "\n",
    "c = np.append(b,[10,11])\n",
    "print(\"another new one:\", c)"
   ]
  },
  {
   "cell_type": "code",
   "execution_count": null,
   "id": "f01cbd31-69a1-411b-978d-51dd4d562e8d",
   "metadata": {},
   "outputs": [],
   "source": [
    "# We can stick lists together to create an array!\n",
    "np.append([1,2,3],[10,20,30])"
   ]
  },
  {
   "cell_type": "code",
   "execution_count": null,
   "id": "ead815b1-583f-49df-9c57-cf45e4575578",
   "metadata": {},
   "outputs": [],
   "source": [
    "#of course, this works with arrays too!\n",
    "#this will make a new array with the values of myarray followed by anotherarray\n",
    "thirdarray = np.append(myarray, anotherarray)\n",
    "print(thirdarray)"
   ]
  },
  {
   "cell_type": "markdown",
   "id": "843ff96b-e44e-4145-92e3-bfee9400355d",
   "metadata": {},
   "source": [
    "## Functions and Arrays\n",
    "\n",
    "We can define a function that performs a mathematical operation on a number. This function is then able to take in an array and produce an array of results instead!"
   ]
  },
  {
   "cell_type": "code",
   "execution_count": null,
   "id": "30953caf-6f88-44c6-a7f8-3090431211c2",
   "metadata": {},
   "outputs": [],
   "source": [
    "def myfunc(x):\n",
    "    return x**3 - x**2 - x + 3"
   ]
  },
  {
   "cell_type": "code",
   "execution_count": null,
   "id": "0d1f09d4-5d3f-4b74-82a7-9be3cdff6a0d",
   "metadata": {},
   "outputs": [],
   "source": [
    "myfunc(myarray)"
   ]
  },
  {
   "cell_type": "markdown",
   "id": "73f60a91-16c8-4b80-9e95-339f099d5205",
   "metadata": {},
   "source": [
    "## Indexing Arrays\n",
    "\n",
    "Indexing arrays works in very much the same way as lists"
   ]
  },
  {
   "cell_type": "code",
   "execution_count": null,
   "id": "a9740ff7-a9a0-4ee5-ad28-70ee18cac7bb",
   "metadata": {},
   "outputs": [],
   "source": [
    "myarray[0] #indexing starts at zero"
   ]
  },
  {
   "cell_type": "code",
   "execution_count": null,
   "id": "1d74c73a-df9e-48d4-9ec6-381b5ded1a57",
   "metadata": {},
   "outputs": [],
   "source": [
    "myarray[-1] # -1 represents the last value"
   ]
  },
  {
   "cell_type": "code",
   "execution_count": null,
   "id": "d1f0fc95-63e8-42cd-815a-81c3e0dfab9c",
   "metadata": {},
   "outputs": [],
   "source": [
    "myfunc(myarray)[1:3] # the second and third values of the result of myfunc"
   ]
  },
  {
   "cell_type": "markdown",
   "id": "e000e998-8376-4f84-a8fa-8d9bf7cd3e4b",
   "metadata": {},
   "source": [
    "## Useful built-in functions in Numpy"
   ]
  },
  {
   "cell_type": "code",
   "execution_count": null,
   "id": "91ca172a-a98f-46cf-a016-0c5626f53ffb",
   "metadata": {},
   "outputs": [],
   "source": [
    "# creating a sequential list\n",
    "\n",
    "print(np.arange(10))"
   ]
  },
  {
   "cell_type": "code",
   "execution_count": null,
   "id": "54cfc861-f20c-4642-be83-44d2d22bc9ab",
   "metadata": {},
   "outputs": [],
   "source": [
    "# creating evenly spaced lists of numbers with linspace\n",
    "# general syntax is np.linspace(start, end, number of values)\n",
    "\n",
    "print(np.linspace(-2,2,10))"
   ]
  },
  {
   "cell_type": "code",
   "execution_count": null,
   "id": "7781459d-c373-4528-9bcb-304c0ffef1e5",
   "metadata": {},
   "outputs": [],
   "source": [
    "# Create an array of random numbers from between 0 and 1\n",
    "\n",
    "my_random_array = np.random.rand(100)\n",
    "print(my_random_array)\n",
    "\n"
   ]
  },
  {
   "cell_type": "markdown",
   "id": "2f7922f0-8321-442d-921a-a7222049b716",
   "metadata": {},
   "source": [
    "The above used a function that was within a sub-module of numpy, which is why we have two periods. One could have also done the following to import just the random module as its own thing"
   ]
  },
  {
   "cell_type": "code",
   "execution_count": null,
   "id": "f0857911-242b-4726-b735-68b2783916c3",
   "metadata": {},
   "outputs": [],
   "source": [
    "from numpy import random\n",
    "my_random_array = random.rand(100)\n",
    "print(my_random_array)\n"
   ]
  },
  {
   "cell_type": "markdown",
   "id": "d5983bac-70ef-464d-aae7-54bf6c764b76",
   "metadata": {},
   "source": [
    "Notice the array is different because it's... random!"
   ]
  },
  {
   "cell_type": "code",
   "execution_count": null,
   "id": "8d979466-d63a-42f7-bce4-112c1fda3958",
   "metadata": {},
   "outputs": [],
   "source": [
    "# Doing some basic statistics (are the values what you'd expect for a random distribution?)\n",
    "\n",
    "print('mean:', np.mean(my_random_array))\n",
    "print('median:', np.median(my_random_array))\n",
    "print('max:', np.max(my_random_array))\n",
    "print('min:', np.min(my_random_array))\n",
    "print('standard deviation:', np.std(my_random_array))\n",
    "print('sum of all values:', np.sum(my_random_array))"
   ]
  },
  {
   "cell_type": "code",
   "execution_count": null,
   "id": "71bf7d75-6918-497f-a2d1-ef6312ee1530",
   "metadata": {},
   "outputs": [],
   "source": [
    "# Many of these functions are actually methods of the object itself, so you may call them like this\n",
    "# Note, we CAN'T do this with median()...\n",
    "print('mean:', my_random_array.mean())\n",
    "print('max:', my_random_array.max())\n",
    "print('min:', my_random_array.min())\n",
    "print('standard deviation:', my_random_array.std())\n",
    "print('sum of all values:', my_random_array.sum())"
   ]
  },
  {
   "cell_type": "markdown",
   "id": "c942910b-3d8b-4827-afc1-e5023b19e780",
   "metadata": {},
   "source": [
    "### The Where Function\n",
    "\n",
    "this is an incredibly important tool in numpy. Rather than looping through the values of a list, we can ask in a single line *where* in the array the values meet some boolean criteria. The where function takes as an argument a boolean operation on an array and returns the indices where it is true."
   ]
  },
  {
   "cell_type": "code",
   "execution_count": null,
   "id": "1e592271-6aa7-44eb-b187-2b16d5aedf62",
   "metadata": {},
   "outputs": [],
   "source": [
    "indexes = np.where(my_random_array>0.5)\n",
    "print(indexes)"
   ]
  },
  {
   "cell_type": "markdown",
   "id": "698fb81a-add3-42a0-a58a-74e380aafd01",
   "metadata": {},
   "source": [
    "The output looks a bit funny. That's only because the array may have a different shape (see below). But the result is always such that we can do the following with the output"
   ]
  },
  {
   "cell_type": "code",
   "execution_count": null,
   "id": "3e7327fe-db52-414e-b444-5b1c66ee0b29",
   "metadata": {},
   "outputs": [],
   "source": [
    "my_random_array[indexes] # gives al the values that are greater than 0.5"
   ]
  },
  {
   "cell_type": "code",
   "execution_count": null,
   "id": "ea39d0d5-6123-4462-99cd-5afbc7b00cc7",
   "metadata": {},
   "outputs": [],
   "source": [
    "# Let's check to make sure these are all really bigger than 0.5\n",
    "print(np.where(my_random_array[indexes]<0.5))"
   ]
  },
  {
   "cell_type": "markdown",
   "id": "b900703f-e0f0-4687-b666-150c3fcf4df1",
   "metadata": {},
   "source": [
    "An empty set nere means that there are no values in our indexed array that are less than 0.5, just as we expected!"
   ]
  },
  {
   "cell_type": "markdown",
   "id": "043bcaa7-4e95-43f8-b73d-9eee840f5447",
   "metadata": {},
   "source": [
    "If we don't care about the indices and just care about the values, we can skip some steps and return all the values of our random array that are larger than 0.5 in just one line"
   ]
  },
  {
   "cell_type": "code",
   "execution_count": null,
   "id": "ee40e878-b995-4177-9bdc-6621eff2f9bc",
   "metadata": {},
   "outputs": [],
   "source": [
    "my_random_array[(my_random_array>0.5)]"
   ]
  },
  {
   "cell_type": "markdown",
   "id": "05c0234e-1344-49ec-8c31-38384b3fcfbd",
   "metadata": {},
   "source": [
    "We can even get more comlpicated and have multiple conditions"
   ]
  },
  {
   "cell_type": "code",
   "execution_count": null,
   "id": "780019e5-614b-42b1-afba-1eb719ee149e",
   "metadata": {},
   "outputs": [],
   "source": [
    "# give values between 0.3 and 0.5 using & to represent \"and\"\n",
    "my_random_array[(my_random_array>0.3)&(my_random_array<0.5)]"
   ]
  },
  {
   "cell_type": "code",
   "execution_count": null,
   "id": "6cf769ec-c322-4433-979d-324bd73a0889",
   "metadata": {},
   "outputs": [],
   "source": [
    "# give values that are below 0.3 OR above 0.5 using | to represent \"or\"\n",
    "my_random_array[(my_random_array<0.3)|(my_random_array>0.5)]"
   ]
  },
  {
   "cell_type": "markdown",
   "id": "ceead49f-a690-43b3-89a8-4746c4f85392",
   "metadata": {},
   "source": [
    "We don't always have to do this operaion on only one array. You can index any array using any other array of the same size and shape. Let's imagine our random array represents some property we measure at different moments in time. We then might want to examine our random array at different ranges of times."
   ]
  },
  {
   "cell_type": "code",
   "execution_count": null,
   "id": "2d1916d8-509b-4741-9c83-209bbc492dcb",
   "metadata": {},
   "outputs": [],
   "source": [
    "# we will make an increasing array of the same size as our random array to represent time\n",
    "times = np.arange(100)\n",
    "\n",
    "# now we index our random array based on values of time\n",
    "\n",
    "my_random_array[(times<50)] # the values of our random array at times below 50"
   ]
  },
  {
   "cell_type": "code",
   "execution_count": null,
   "id": "94095f8f-ac18-4d43-a979-29b56809e812",
   "metadata": {},
   "outputs": [],
   "source": [
    "# we can even do a combination of boolean statements\n",
    "# The important thing is that all the arrays involved are the same size and shape\n",
    "\n",
    "my_random_array[(times<50)&(my_random_array>0.2)]"
   ]
  },
  {
   "cell_type": "markdown",
   "id": "1eb17270-f27d-4173-a646-f2199a4c8d22",
   "metadata": {},
   "source": [
    "There might even be times where you want to change the values of an array but only in specific locations. Note that in the following example we *permanently* change our array's values"
   ]
  },
  {
   "cell_type": "code",
   "execution_count": null,
   "id": "a136fc29-f3e4-416c-aa7a-228168036519",
   "metadata": {},
   "outputs": [],
   "source": [
    "my_random_array[(times<50)&(my_random_array>0.2)] = 0\n",
    "print(my_random_array)"
   ]
  },
  {
   "cell_type": "markdown",
   "id": "7a3d63e0-8a24-4399-83dc-6364f7cf772a",
   "metadata": {},
   "source": [
    "## Arrays of Different Shapes\n",
    "\n",
    "While in here you will likely find that one-dimensional arrays are the most useful, there may be times where you deal with arrays of various dimensions. These are essentially matrices but can be manipulated much like any other array."
   ]
  },
  {
   "cell_type": "code",
   "execution_count": null,
   "id": "87e35469-4789-4b6a-b24e-5c6c91318890",
   "metadata": {},
   "outputs": [],
   "source": [
    "# A two dimensional array\n",
    "a = np.array([[1, 2, 3], [4, 5, 6]])\n",
    "a"
   ]
  },
  {
   "cell_type": "code",
   "execution_count": null,
   "id": "e331f5e1-f75b-4bde-992c-f205a4bf8402",
   "metadata": {},
   "outputs": [],
   "source": [
    "# Every array has a property \"shape\"\n",
    "a.shape"
   ]
  },
  {
   "cell_type": "markdown",
   "id": "6c3515f1-87c2-4037-9621-507b532ed941",
   "metadata": {},
   "source": [
    "The array `a` is a 2x3 array"
   ]
  },
  {
   "cell_type": "code",
   "execution_count": null,
   "id": "87966959-28c7-4264-82f9-5bad56c7b39b",
   "metadata": {},
   "outputs": [],
   "source": [
    "# To get specific values of our array we need to provide two numbers\n",
    "a[0,1] # first number specifies the row, then the column in this case"
   ]
  },
  {
   "cell_type": "code",
   "execution_count": null,
   "id": "c562df8a-b544-42f4-b4f9-d633c74c6bb6",
   "metadata": {},
   "outputs": [],
   "source": [
    "a[:,0] # all the values in the first column"
   ]
  },
  {
   "cell_type": "code",
   "execution_count": null,
   "id": "a3e62608-d7a6-4a8e-9a5a-99ab7929de21",
   "metadata": {},
   "outputs": [],
   "source": [
    "a[1,:] #all the values in the second row"
   ]
  },
  {
   "cell_type": "code",
   "execution_count": null,
   "id": "652c58ce-2e91-494e-8c5f-3e92f345c320",
   "metadata": {},
   "outputs": [],
   "source": [
    "# We can perform many of the same indexing operations as we've done with 1-d arrays and lists\n",
    "b = np.array([[0,1,2,3,4,5,6],[10,20,30,40,50,60,70]])\n",
    "print(b[1,2:5]) #third through fifth values of the second row\n",
    "print(b[0,::-1]) # reverse of the first row\n"
   ]
  },
  {
   "cell_type": "code",
   "execution_count": null,
   "id": "bf57fe62-ee43-4e65-9cca-e800f65fab25",
   "metadata": {},
   "outputs": [],
   "source": [
    "# By default the default functions will consider all the values in your array\n",
    "print(a.sum())\n",
    "print(a.mean())"
   ]
  },
  {
   "cell_type": "code",
   "execution_count": null,
   "id": "1c7a6610-e1fa-48ae-a7b3-46ca67ce0db8",
   "metadata": {},
   "outputs": [],
   "source": [
    "# but we can also specify over which direction to sum (along rows or along columns)\n",
    "print(a.sum(axis=0))\n",
    "print(a.sum(axis=1))"
   ]
  },
  {
   "cell_type": "code",
   "execution_count": null,
   "id": "b6d30ba1-5a79-48b1-895e-db5d658f752f",
   "metadata": {},
   "outputs": [],
   "source": [
    "# Adding and multiplying arrays of 2 dimensions\n",
    "\n",
    "a = np.array([[1, 2, 3], [4, 5, 6]])\n",
    "b = np.array([[5,2,4], [8, 3,5]])\n",
    "print(a*b)\n",
    "print(a+b)\n",
    "print(a/b)"
   ]
  },
  {
   "cell_type": "markdown",
   "id": "51d9998e-b10f-45aa-b385-2c45a3195902",
   "metadata": {},
   "source": [
    "# Exercise\n",
    "\n",
    "a) Create a function `deltax()` that takes as an argument a one-d array $x=[x_0, x_1, ... x_n]$ of any size $n$ and returns a new array $y = [y_0, y_1, ...,y_n]$ such that $y_i = x_i - x_{i-1}$ for $i>0$ and $y_0= x_0$. **Do not use any *for* or *while* loops to do this!**\n",
    "\n",
    "b) The line `my_rand_coords = -10+np.random.rand(100,3)*20` will create a random array of 100 3D positions (x, y, z) in a cube ranging between -10 and 10 units on each side. Create a function that will calculate the scalar distance between all of those points relative to a user-given 3D coordinate. **Do not use any *for* or *while* loops to do this!**"
   ]
  },
  {
   "cell_type": "code",
   "execution_count": null,
   "id": "aaefd260-bf63-49e4-804a-753859577bf4",
   "metadata": {},
   "outputs": [],
   "source": []
  }
 ],
 "metadata": {
  "kernelspec": {
   "display_name": "Python 3 (ipykernel)",
   "language": "python",
   "name": "python3"
  },
  "language_info": {
   "codemirror_mode": {
    "name": "ipython",
    "version": 3
   },
   "file_extension": ".py",
   "mimetype": "text/x-python",
   "name": "python",
   "nbconvert_exporter": "python",
   "pygments_lexer": "ipython3",
   "version": "3.10.14"
  }
 },
 "nbformat": 4,
 "nbformat_minor": 5
}
