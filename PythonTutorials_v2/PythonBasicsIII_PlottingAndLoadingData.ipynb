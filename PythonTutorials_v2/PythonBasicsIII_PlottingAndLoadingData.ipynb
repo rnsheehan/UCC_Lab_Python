{
 "cells": [
  {
   "cell_type": "markdown",
   "id": "01c7e188-9750-4580-8725-0784f5dea287",
   "metadata": {},
   "source": [
    "# Plotting in Python with Matplotlib\n",
    "\n",
    "Plotting is an essential tool in science. For this we will use the matplotlib package, a standard for many people.\n",
    "\n",
    "in particular the module `matplotlib.pyplot` has a lot of useful plotting tools, the simplest of which is `plot(x,y)` which will make a line plot according to a list (or array) of x and y coordinates."
   ]
  },
  {
   "cell_type": "code",
   "execution_count": null,
   "id": "62de2dec-5a55-47f6-bc3a-bbf41481a812",
   "metadata": {},
   "outputs": [],
   "source": [
    "#make a very simple plot\n",
    "\n",
    "import matplotlib.pyplot as plt\n",
    "import numpy as np\n",
    "\n",
    "#the plot(x,y) function takes as its arguments two lists or arrays and plots them x (first) vs y (second)\n",
    "plt.plot(np.arange(10), np.arange(10))"
   ]
  },
  {
   "cell_type": "markdown",
   "id": "4e3a303f-be4c-4532-b6c3-5e37b1b01d4b",
   "metadata": {},
   "source": [
    "Note that the tickmarks are already labeled for you! How convenient! Let's try getting a little more complicated, using what we learned about functions to make a more fun plot."
   ]
  },
  {
   "cell_type": "code",
   "execution_count": null,
   "id": "0eafca58-f87c-49ab-8e28-a8c83ac1268b",
   "metadata": {},
   "outputs": [],
   "source": [
    "# Plotting a function\n",
    "\n",
    "def f(x): # define our function\n",
    "    return x**3 - x**2 - x + 3\n",
    "\n",
    "myxspace = np.linspace(-2,2,100) # 100 points between -10 and 10\n",
    "plt.plot(myxspace, f(myxspace))"
   ]
  },
  {
   "cell_type": "markdown",
   "id": "bb92a8e3-6a71-400f-9549-a3f36c3b4bd0",
   "metadata": {},
   "source": [
    "## Customizing Your Plot\n",
    "\n",
    "There's a lot more to do to make your plot readable, such as labeling axes, making titles, and creating legends.\n"
   ]
  },
  {
   "cell_type": "code",
   "execution_count": null,
   "id": "22a6744e-332c-4284-9ef3-106df463d532",
   "metadata": {},
   "outputs": [],
   "source": [
    "#Add some axes labels\n",
    "\n",
    "plt.plot(myxspace,f(myxspace))\n",
    "plt.xlabel(\"x\")\n",
    "plt.ylabel(\"f(x)\")"
   ]
  },
  {
   "cell_type": "markdown",
   "id": "9f2c3c03-19d1-4f69-b851-b72e1bff3f5f",
   "metadata": {},
   "source": [
    "Plotting more than one curve on the same axes is very simple. Just add extra lines as follows: "
   ]
  },
  {
   "cell_type": "code",
   "execution_count": null,
   "id": "0edb648a-52d9-44ff-9db2-04aa3022f952",
   "metadata": {},
   "outputs": [],
   "source": [
    "plt.plot(myxspace,f(myxspace))\n",
    "plt.plot(myxspace,-f(myxspace))\n",
    "plt.plot(myxspace,f(myxspace)-2)\n",
    "plt.xlabel(\"x\")\n",
    "plt.ylabel(\"f(x)\")"
   ]
  },
  {
   "cell_type": "markdown",
   "id": "588119c8-b525-4f2a-b044-27959024e47c",
   "metadata": {},
   "source": [
    "Again, `matplotlib` is pretty smart and chooses different colors for your lines automatically. How nice of it!\n",
    "\n",
    "You may want to zoom into a particular area, and you may also want to save the resulting figure as a pdf file, so that you can use it in other documents."
   ]
  },
  {
   "cell_type": "code",
   "execution_count": null,
   "id": "194a5e69-a664-47b9-9382-e4a786338370",
   "metadata": {
    "scrolled": true,
    "tags": []
   },
   "outputs": [],
   "source": [
    "plt.plot(myxspace,f(myxspace))\n",
    "plt.plot(myxspace,-f(myxspace))\n",
    "plt.plot(myxspace,f(myxspace)-2)\n",
    "plt.xlabel(\"x\")\n",
    "plt.ylabel(\"f(x)\")\n",
    "plt.xlim(-1.5,0.5)\n",
    "plt.ylim(-6,6)\n",
    "plt.savefig(\"Myfig.pdf\") #save a file in your current working directory"
   ]
  },
  {
   "cell_type": "markdown",
   "id": "b52acd43-9065-431f-9da9-2f200537b3e8",
   "metadata": {},
   "source": [
    "Customising the style of the curves can be done by editing the `linestyle` property. This is a nice way to further differentiate between lines, especially when you find yourself running out of distinct colors!"
   ]
  },
  {
   "cell_type": "code",
   "execution_count": null,
   "id": "5ade1b23-46d5-46f7-b619-cf640bc4f8d2",
   "metadata": {},
   "outputs": [],
   "source": [
    "plt.plot(myxspace,f(myxspace))\n",
    "plt.plot(myxspace,-f(myxspace),linestyle=\"--\")\n",
    "plt.plot(myxspace,f(myxspace)-2,linestyle=\":\")\n",
    "plt.xlabel(\"x\")\n",
    "plt.ylabel(\"f(x)\")"
   ]
  },
  {
   "cell_type": "markdown",
   "id": "b7c8de40-ed8a-4572-8802-4960157f360d",
   "metadata": {},
   "source": [
    "As you can imagine, there are a lot more options for plotting that you can tune; for example, say you would like to add a legend to your graph, or maybe you want to do bar-charts, maybe you want to add error bars or other things to your plot. All this is indeed possible in Python, but it would be tedious to try to memorise all the different options available; especially since you might only use some of the many options rarely, and some of them never at all. \n",
    "\n",
    "The recommended approach is the following:\n",
    "\n",
    "1. Learn some of the basic plotting commands, so that you can quickly see the data for yourself.\n",
    "2. To make production ready nice graphs, consult the [Matplotlib examples website](https://matplotlib.org/stable/gallery/index.html). \n",
    "3. Try to find an example of the feature you are looking for.\n",
    "3. Run the code provided (on the website) for that example unchanged.\n",
    "4. Try to understand the code that they use to implement the feature in question.\n",
    "5. Adapt your code so that it implements the feature you are looking for. \n",
    "\n",
    "Let's start making legends now."
   ]
  },
  {
   "cell_type": "code",
   "execution_count": null,
   "id": "2f30fdb7-d510-48d5-9368-ef3ced2d6767",
   "metadata": {},
   "outputs": [],
   "source": [
    "def g(x): #define another function\n",
    "    return x**2+10*x\n",
    "\n",
    "plt.plot(myxspace,f(myxspace), label='f(x)') #plot each one, with their associated label\n",
    "plt.plot(myxspace,g(myxspace), label='g(x)')\n",
    "plt.xlabel('x')\n",
    "plt.ylabel('Function Value')\n",
    "plt.legend()"
   ]
  },
  {
   "cell_type": "code",
   "execution_count": null,
   "id": "619caee3-6e21-4722-a5bb-a910d9e1d880",
   "metadata": {},
   "outputs": [],
   "source": [
    "# you might want to change the location of the legend\n",
    "plt.plot(myxspace,f(myxspace), label='f(x)')\n",
    "plt.plot(myxspace,g(myxspace), label='g(x)')\n",
    "plt.xlabel('x')\n",
    "plt.ylabel('Function Value')\n",
    "plt.legend(loc='lower right') # options are combinations of upper, lower, center, right, left"
   ]
  },
  {
   "cell_type": "code",
   "execution_count": null,
   "id": "28cc026a-12c8-4656-87b4-c4989dd7fc2d",
   "metadata": {},
   "outputs": [],
   "source": [
    "# You might also want to change the label sizes, add a title\n",
    "plt.title('My Really Great Plot', fontsize='xx-large')\n",
    "plt.plot(myxspace,f(myxspace), label='f(x)')\n",
    "plt.plot(myxspace,g(myxspace), label='g(x)')\n",
    "plt.xlabel('x', fontsize=20) # you can determine fontsize by a number (kind of guess and check)\n",
    "plt.ylabel('Function Value', fontsize=20)\n",
    "plt.legend(loc='lower right', fontsize='x-large') # or by a string like 'small', 'large', 'xx-large'\n",
    "plt.yticks(fontsize=10) #We can even change the labels of the ticks!\n",
    "plt.xticks(fontsize=10)"
   ]
  },
  {
   "cell_type": "markdown",
   "id": "32c8c731-45b9-4d1c-a7b7-b3552887e971",
   "metadata": {},
   "source": [
    "## Colors\n",
    "\n",
    "You can set the colors yourself, or let matplotlib use the defaults. The defaults should be colorblind friendly and generally nice. But you may want to change the order, or still prefer some specific colors.\n",
    "\n",
    "You can see some colors available to you here: https://matplotlib.org/stable/gallery/color/named_colors.html\n",
    "\n",
    "You can set the colors with the argument within plot() `color='b'` (for blue, for example)\n",
    "\n",
    "Some basic colors would be blue ('b'), red ('r'), cyan ('c'), orange ('o'), green ('g'), black ('k').\n",
    "\n",
    "You can also use the default colors in different order by using strings 'C0' (the first default), 'C1' (second), 'C2' (third), and so on. The defaults are nice and should be pretty colorblind friendly."
   ]
  },
  {
   "cell_type": "code",
   "execution_count": null,
   "id": "40093206-4a00-4205-a639-2d7c5b3361d7",
   "metadata": {},
   "outputs": [],
   "source": [
    "# You might also want to change the label sizes, add a title\n",
    "plt.title('My Really Great Plot', fontsize='xx-large')\n",
    "plt.plot(myxspace,f(myxspace), label='f(x)', color='b') #blue\n",
    "plt.plot(myxspace,g(myxspace), label='g(x)', color='r') #red\n",
    "plt.plot(myxspace,g(myxspace)+100, label='g(x)+10', color='C2') #third default\n",
    "\n",
    "plt.xlabel('x', fontsize=20) # you can determine fontsize by a number (kind of guess and check)\n",
    "plt.ylabel('Function Value', fontsize=20)\n",
    "plt.legend(loc='center right', fontsize='x-large') # or by a string like 'small', 'large', 'xx-large'\n",
    "plt.yticks(fontsize=10) #We can even change the labels of the ticks!\n",
    "plt.xticks(fontsize=10)"
   ]
  },
  {
   "cell_type": "markdown",
   "id": "c33a2ceb-fc67-4eae-8f2d-e1564e8af09d",
   "metadata": {},
   "source": [
    "# Loading Data from a File\n",
    "\n",
    "This semester you'll be taking a lot of data and it is easy using Excel to export this data into a CSV file (\"comma separated value\"). These are easy to read in with python!\n",
    "\n",
    "We have an example file for you to work with called Canada.csv. It has data on tree rings over the last 400 years in Canada. The data was downloaded downloaded from the Internet at (http://www.climatedata.info/proxies/data-downloads/).\n",
    "\n",
    "You can take a look at what the file looks like in jupyter lab by double clicking on it. The next step is to open up the file and load its contents into python so we can plot it. For this we will use a built-in `numpy` function called `genfromtxt`. This will turn a csv data file into arrays.\n",
    "\n",
    "This function takes a few important keywords. The `delimiter` keyword tells it about the format of the file. How are the different values separated. Well, in a COMMA separated value file this is \",\". The other important feature is the `skip_header` keyword, which will tell the function how many of the first lines to skp because they are \"headers\", i.e. the are telling us about the data rather than values themselves (for example, headers saying what each column represents). When you make your own files in Excel it is usually a good idea to label your columns! Just like comments in code, it will help you later and future-you will thank you."
   ]
  },
  {
   "cell_type": "code",
   "execution_count": null,
   "id": "be8ec6ee-ff99-4e13-8d13-6efd06ebf6ae",
   "metadata": {},
   "outputs": [],
   "source": [
    "# The function will load in the data into a 2-d array.\n",
    "\n",
    "A=np.genfromtxt(\"Canada.csv\",delimiter=\",\",skip_header=4)"
   ]
  },
  {
   "cell_type": "code",
   "execution_count": null,
   "id": "ddea8ac2-ddc0-43e7-abfb-f9572aad8a41",
   "metadata": {},
   "outputs": [],
   "source": [
    "A[0]"
   ]
  },
  {
   "cell_type": "markdown",
   "id": "364465bb-45f1-4ef6-b427-3d73ce2d07a0",
   "metadata": {},
   "source": [
    "This is the first row of the data. Note the \"nan\" value, which stands for \"Not A Number\". This is what is done when there is no data in a column. You can see when you view the file in jupyter that indeed there are a few entries with no data in these first few rows."
   ]
  },
  {
   "cell_type": "code",
   "execution_count": null,
   "id": "936a8d03-26c9-4e97-af9c-56780f709801",
   "metadata": {},
   "outputs": [],
   "source": [
    "A[:,0] #the first column"
   ]
  },
  {
   "cell_type": "code",
   "execution_count": null,
   "id": "34e1587f-0d1d-49ad-9d70-96dbe59709f6",
   "metadata": {},
   "outputs": [],
   "source": [
    "A[:,1] # second column"
   ]
  },
  {
   "cell_type": "code",
   "execution_count": null,
   "id": "610db435-10c0-469e-99d5-665a00b7812a",
   "metadata": {},
   "outputs": [],
   "source": [
    "A.shape # there are 402 rows and 5 columns"
   ]
  },
  {
   "cell_type": "markdown",
   "id": "2d57a16a-eefb-4788-8aa0-2feeaad720c3",
   "metadata": {},
   "source": [
    "Now we can finally make a plot of the tree ring width in Canada vs time!"
   ]
  },
  {
   "cell_type": "code",
   "execution_count": null,
   "id": "3ba75133-fd69-4328-a1ca-29e4341802af",
   "metadata": {},
   "outputs": [],
   "source": [
    "plt.plot(A[:,0],A[:,1],label=\"20 year moving average\")\n",
    "plt.xlabel(\"year\")\n",
    "plt.ylabel(\"tree ring width in Canada\")\n",
    "plt.legend()"
   ]
  },
  {
   "cell_type": "markdown",
   "id": "cf9262a0-95b2-4ae1-b481-173368408a39",
   "metadata": {},
   "source": [
    "We can plot multiple columns together. Here because we want to really be able to see the 20 year moving average line, I'll make it thicker using the `linewidth` keyword"
   ]
  },
  {
   "cell_type": "code",
   "execution_count": null,
   "id": "90d4770c-ba88-477e-851b-7809b4f15d7e",
   "metadata": {},
   "outputs": [],
   "source": [
    "\n",
    "plt.plot(A[:,0],A[:,3],label=\"Campbell\")\n",
    "plt.plot(A[:,0],A[:,4],label=\"Mt Cain\")\n",
    "\n",
    "plt.xlabel(\"year\")\n",
    "plt.ylabel(\"tree ring width in Canada\")\n",
    "\n",
    "plt.plot(A[:,0],A[:,1],label=\"20 year moving average\", color='k', linewidth=5)\n",
    "plt.legend()"
   ]
  },
  {
   "cell_type": "markdown",
   "id": "bdc6ad4b-7a2d-4375-ae20-6bdafb8e9f67",
   "metadata": {},
   "source": [
    "If you'd prefer to not work with a 2D array with data, you can *UNPACK* the data into separate variables by using the `unpack=True` keyword. This is a boolean value (remember those?) that is defaulted to `False`, but we can switch it to `True`\n",
    "\n",
    "This is handy because now you can call your variables more useful names that will make them more intuitive to work with."
   ]
  },
  {
   "cell_type": "code",
   "execution_count": null,
   "id": "46efc505-d33e-4f10-b45b-ebaaf602d135",
   "metadata": {},
   "outputs": [],
   "source": [
    "time, ave, canada, campbell, mtcain =np.genfromtxt(\"Canada.csv\",delimiter=\",\",skip_header=4, unpack=True)\n",
    "\n",
    "plt.plot(time,campbell,label=\"Campbell\")\n",
    "plt.plot(time,mtcain,label=\"Mt Cain\")\n",
    "\n",
    "plt.xlabel(\"year\")\n",
    "plt.ylabel(\"tree ring width in Canada\")\n",
    "\n",
    "plt.plot(time,ave,label=\"20 year moving average\", color='k', linewidth=5)\n",
    "plt.legend()"
   ]
  },
  {
   "cell_type": "markdown",
   "id": "fb7a6d1c-8d2e-4f28-934f-fd6853b23353",
   "metadata": {},
   "source": [
    "# Exercises\n",
    "\n",
    "a) using the data from `Canada.csv` plot the difference between each of the three data sets and the 20 year moving average vs time. Label the plot correctly and create a legend. **No *for* or *while* loops please!**\n",
    "\n",
    "b) Consider functions for the height $h(t)$ and velocity $v(t)$ vs time ($t\\geq0$) of an object dropped straight down from an initial height $h_0$ at $t=0$\\. Assume $g=9.8$ m/s and that $h$ is in units of meters. Generate a plot of velocity vs time for different initial heights. Generate another plot for height vs time. Make sure your results are realistic! Velocity should be 0 once the object hits the ground and the height cannot be negative! Label and axes and create a legend for your different lines that makes sense to a reader. **Try to avoid *for* and *while* loops and make some functions!**"
   ]
  },
  {
   "cell_type": "code",
   "execution_count": null,
   "id": "91504003-4813-4398-b108-26279ac8fe6a",
   "metadata": {},
   "outputs": [],
   "source": []
  }
 ],
 "metadata": {
  "kernelspec": {
   "display_name": "Python 3 (ipykernel)",
   "language": "python",
   "name": "python3"
  },
  "language_info": {
   "codemirror_mode": {
    "name": "ipython",
    "version": 3
   },
   "file_extension": ".py",
   "mimetype": "text/x-python",
   "name": "python",
   "nbconvert_exporter": "python",
   "pygments_lexer": "ipython3",
   "version": "3.10.14"
  }
 },
 "nbformat": 4,
 "nbformat_minor": 5
}
