{
 "cells": [
  {
   "cell_type": "markdown",
   "id": "d1e5e9bc-d5a1-4337-a7a0-e7101d3e9167",
   "metadata": {},
   "source": [
    "<h1> Intro to Python </h1>\n",
    "<h3> Adopted from Dr. Andrew Keane's nodes </h3>\n",
    "\n",
    "\n",
    "[Python](http://www.python.org) is a [popular](http://www.tiobe.com/index.php/content/paperinfo/tpci/index.html) general purpose programming language used by [many technology companies](https://www.cleveroad.com/blog/discover-5-leading-companies-that-use-python-and-learn-does-it-fit-your-project). It is [open-source](https://en.wikipedia.org/wiki/Open-source_software) and freely available for many operating systems. \n",
    "\n",
    "In these notebooks we will cover the very basics of python, focusing on basic math, reading in data from files, plotting data, and creating and manipulating array structures. There is a lot more out there, but its important to remember that people that code, whether they are software engineers or scientists, don't know everything in their head. We utilize online resources CONSTANTLY! Here are a few useful ones:\n",
    "\n",
    "* [**`www.python.org`**](https://www.python.org/) The Python \"homepage\", which is the authorative source of information for anybody interested in the language.  In particular, the [tutorial](https://docs.python.org/3/tutorial/introduction.html) should at this point be easy for you to follow. Beyond the tutorial, there is also the more formal specification of the full Python language for reference. Sometimes you might need to take a quick look at, for example, the lists of all [build-in functions](https://docs.python.org/3/library/functions.html) and [built-in types](https://docs.python.org/3/library/stdtypes.html).\n",
    "\n",
    "* [**`www.numpy.org`**](https://numpy.org/doc/stable/user/index.html#) Documentation for numpy, a very useful and important python package you can expect to use a lot.\n",
    "\n",
    "* [**`www.matplotlib`**](https://matplotlib.org/stable/users/index.html) Documentation for Matplotlib, the primary tool for making plots. Again, you can expect to use this a lot!\n",
    "\n",
    "* [**`stackexchange.com`**](https://stackexchange.com/) This is a great site for all sorts of computing (and more general) questions, including, of course, [Python](https://stackoverflow.com/questions/tagged/python), and Python libraries, such as [numpy](https://stackoverflow.com/questions/tagged/numpy), [matplotlib](https://stackoverflow.com/questions/tagged/matplotlib), etc.\n",
    "\n",
    "Getting an error? Often copying and pasting the error message into a google search is the best way to get an answer!"
   ]
  },
  {
   "cell_type": "markdown",
   "id": "122a4608-0ec8-4299-8b2a-d476cebc5878",
   "metadata": {
    "tags": []
   },
   "source": [
    "# Getting Started With Jupyter"
   ]
  },
  {
   "cell_type": "markdown",
   "id": "4b711bf9-07b2-4304-990b-d65dd3197639",
   "metadata": {},
   "source": [
    "The Jupyter notebook document may contain rich text elements (paragraph, equations, tables, figures, links, etc…), as well as executable computer code (e.g. Python). It's also used in industry.\n",
    "\n",
    "[jupyter.org](http://jupyter.org/) is the homepage of the *Jupyter* project and includes various video tutorials and examples. Also, note that Jupyter is useful for things beyond python, such as the coding languages R and Julia.\n"
   ]
  },
  {
   "cell_type": "markdown",
   "id": "13a9d13b-37f0-476e-828b-790808b52884",
   "metadata": {},
   "source": [
    "## Downloading Python and Jupyter\n",
    "\n",
    "Anaconda is a one stop shop for everything python, including jupyter notebooks. Navigate to the website (`https://www.anaconda.com/`)[https://www.anaconda.com/], navigate to the downloads page and select the one suitable for your computer."
   ]
  },
  {
   "cell_type": "markdown",
   "id": "5478975c-356e-4f6c-be05-13cae8c79e21",
   "metadata": {},
   "source": [
    "## Starting Jupyter Notebook for Windows Users\n",
    "\n",
    "You can find Jupyter Notebook in the start menu.\n",
    "\n",
    "\n",
    "## Starting Jupyter Notebook for Mac Users\n",
    "\n",
    "Open the Terminal app. Navigate to the directory you wish to work in. For example, if you create a folder on your Desktop called `PY2107_Python_Tutorial` you would type `cd Desktop/PY2107_Python_Tutorial` and press `return`. You will then be inside this folder. If you type `ls` and press `return` you will see a list of the folder contents. Now that you are where you want to be, run jupyter by typing `jupyter notebook` and pressing `return`"
   ]
  },
  {
   "cell_type": "markdown",
   "id": "3d58ac7c-c799-4cf8-9791-f76dc7d05305",
   "metadata": {},
   "source": [
    "## Test that Jupyter works\n",
    "\n",
    "1. In the browser window you should see (among other things) a \"New\" button. Click this button and select *Python 3* (or *Python 3 [root]*). This should give you a browser window with a prompt for Python commands. \n",
    "7. Once you see this, type \n",
    "        `print(\"Hello World!\")\n",
    "and then **Shift-Return** to execute the line. You should see the following (I've done it for you here but I suggest you get practice opening up a new notebook!):"
   ]
  },
  {
   "cell_type": "code",
   "execution_count": null,
   "id": "464f5e75-d135-4653-998f-5ef3772036b6",
   "metadata": {},
   "outputs": [],
   "source": [
    "print(\"Hello World!\")"
   ]
  },
  {
   "cell_type": "markdown",
   "id": "a313ca39-a301-4737-b276-6dbda6a05394",
   "metadata": {},
   "source": [
    "What happens internally when you type `Shift-Return` is that the contents of the cell (i.e. `print(\"Hello World!\")`) is sent to a Python *kernel* (Interpreter) and any output from the kernel is displayed below the cell. "
   ]
  },
  {
   "cell_type": "markdown",
   "id": "62fc25d2-bd81-48e4-8788-146852061d3a",
   "metadata": {},
   "source": [
    "## Standard Editing features\n",
    "\n",
    "Take a bit of time to familiarize yourself with the interface. The most important key is the above-mentioned `Shift-Return` to execute a *cell* in Python. Cell refers to the grey shaded area in which you can type. If you press Return without Shift, the cell you are in gets expanded to add further lines (and the cell is not executed). Other standard editing, including `Ctrl-X` for cut, `Ctrl-V` for paste and `Ctrl-C` for copy also work (or `Cmd-C`, `Cmd-V` on Macs). You can click into the above cell and try it out. \n"
   ]
  },
  {
   "cell_type": "markdown",
   "id": "c11e2df9-3c25-497a-90f0-2b479d4bcdce",
   "metadata": {},
   "source": [
    "### Change the name of your document\n",
    "Close to the top of the notebook page you should see something like \"Untitled0\". This is a preliminary title for the notebook you just generated. Click on it to change it to something more meaningful, for example \"MyFirstNotebook\". By default your documents are autosaved every two minutes. This means that you can simply close the current browser tab, and any work older than two minutes should not be lost. "
   ]
  },
  {
   "cell_type": "markdown",
   "id": "f38f6d2e-961f-4b3c-ab7a-952318782983",
   "metadata": {},
   "source": [
    "### More buttons\n",
    "\n",
    "The most important buttons at the top of your notebook:\n",
    "\n",
    "- save (looks like a floppy disk on the left)\n",
    "- insert cell below (the + sign)\n",
    "- cut cell (the scissor)\n",
    "- copy cell (to the right of the scissor)\n",
    "- paste cell below current cell(clipboard)"
   ]
  },
  {
   "cell_type": "markdown",
   "id": "c5706a94-e027-4848-b7a6-6853fee3a780",
   "metadata": {},
   "source": [
    "# Calculations and Variable Types with Python"
   ]
  },
  {
   "cell_type": "markdown",
   "id": "23a7b01a-50d0-4211-904f-c1d091014480",
   "metadata": {},
   "source": [
    "## Using Jupyter Notebook as a Simple Calculator"
   ]
  },
  {
   "cell_type": "code",
   "execution_count": null,
   "id": "88c29c51-0fa2-4750-8056-8e9237d85aa0",
   "metadata": {},
   "outputs": [],
   "source": [
    "3+7"
   ]
  },
  {
   "cell_type": "code",
   "execution_count": null,
   "id": "942f15c5-80da-42bf-bc04-94aeed3dd086",
   "metadata": {},
   "outputs": [],
   "source": [
    "3 + 2 * 5"
   ]
  },
  {
   "cell_type": "code",
   "execution_count": null,
   "id": "e6d74af9-1ae5-45bd-9ecc-ae1226f4c1d4",
   "metadata": {},
   "outputs": [],
   "source": [
    "(3 + 2) * 5"
   ]
  },
  {
   "cell_type": "markdown",
   "id": "8a589bf2-6089-4803-b2bc-55884eccdfe9",
   "metadata": {},
   "source": [
    "Note that the spacing doesn't matter here in a technical sense. However, it might affect the readability of your code!\n",
    "\n",
    "Now let's try taking a number to a power. You might be tempted to do the following, but you'll find it doesn't work."
   ]
  },
  {
   "cell_type": "code",
   "execution_count": null,
   "id": "b50c8652-b4e7-40a9-ab81-f170b541db1c",
   "metadata": {},
   "outputs": [],
   "source": [
    "7^2"
   ]
  },
  {
   "cell_type": "markdown",
   "id": "a2a0eda1-eac6-4b4d-91ff-627c01721613",
   "metadata": {},
   "source": [
    "Instead, you want to use `**` to represent \"to the power of\""
   ]
  },
  {
   "cell_type": "code",
   "execution_count": null,
   "id": "ec6b5a5b-3fb9-4c37-86c2-9403e8e8e740",
   "metadata": {},
   "outputs": [],
   "source": [
    "7**2"
   ]
  },
  {
   "cell_type": "markdown",
   "id": "8b673d73-262e-4303-9c7a-40f959cb1b68",
   "metadata": {},
   "source": [
    "## Examples of Using Built-in Functions: Rounding and Absolute values\n",
    "\n",
    "the `print` line we had above to test Jupyter was working was an example of using a function. In this case, the `print()` function, which take one *argument*, the object you'd like to print. So, when you use `print()` it is always in a line that looks something like `print(x)`, where `x` is a number, or a *string* (like \"hello world\") or a variable (we'll talk about those soon). \n",
    "\n",
    "Similarly, there are built-in functions that are helpful with math, such as `abs()`, which returns the absolute value of the number you give it, and `round()`, which will round a decimal number to the nearest whole number.\n",
    "\n",
    "Below are a few examples. In each case, we call the function by providing an argument within the `()`."
   ]
  },
  {
   "cell_type": "code",
   "execution_count": null,
   "id": "a40a620e-8f6b-4c49-8066-54f306ada024",
   "metadata": {},
   "outputs": [],
   "source": [
    "abs(-5)"
   ]
  },
  {
   "cell_type": "code",
   "execution_count": null,
   "id": "fa7032b5-5f7e-42cb-bd44-773590f7b7d6",
   "metadata": {},
   "outputs": [],
   "source": [
    "round(5.3)"
   ]
  },
  {
   "cell_type": "code",
   "execution_count": null,
   "id": "9f1ea5a1-e0ec-4eac-b8eb-f74e71e4417f",
   "metadata": {},
   "outputs": [],
   "source": [
    "round(-5.7)"
   ]
  },
  {
   "cell_type": "markdown",
   "id": "040ceadd-a084-48de-8d7c-b11e761f457b",
   "metadata": {},
   "source": [
    "We can even use these functions as input into other functions, like `print()` (even though it will still print out a value if you just call the function... once you start having multiple lines of code print statements will be more helpful!)"
   ]
  },
  {
   "cell_type": "code",
   "execution_count": null,
   "id": "745e44d7-0484-4106-b801-ce04831a6444",
   "metadata": {},
   "outputs": [],
   "source": [
    "print(abs(-6.7))"
   ]
  },
  {
   "cell_type": "markdown",
   "id": "18ea5e4b-1892-4c1b-8dc8-700d1c2cfaaa",
   "metadata": {},
   "source": [
    "we can even get more complicated by putting functions in functions in functions (note that the parentheses (`()`) need to match up - three on the left ('(') three on the right (')')."
   ]
  },
  {
   "cell_type": "code",
   "execution_count": null,
   "id": "c87f8db1-c319-410e-ac8d-cae09689ad39",
   "metadata": {},
   "outputs": [],
   "source": [
    "print(abs(round(-5.7)))"
   ]
  },
  {
   "cell_type": "markdown",
   "id": "93d55cd5-a473-43b2-8ef8-1a86ce367bbd",
   "metadata": {},
   "source": [
    "## Storing Values to Variables\n",
    "\n",
    "We can save values into variables, which will be useful in longer calculations. In the following lines we define three new variables called a, b, and c. Note that it is possible to put multiple commands into a single cell! In fact, most of the time you will do this. Cells are great ways to separate code into chunks based on what they are doing, but you are free to put as much or as little code as you want, so long as you separate each command by a line (`return` will give you a new line, just line in word processing)"
   ]
  },
  {
   "cell_type": "code",
   "execution_count": null,
   "id": "3efd6126-0c82-456c-a4a7-bf8b7d01780d",
   "metadata": {},
   "outputs": [],
   "source": [
    "a = 3\n",
    "b = 7 \n",
    "c = a * (b + 3)"
   ]
  },
  {
   "cell_type": "markdown",
   "id": "4fe56bac-6012-4257-b3a7-042686af2230",
   "metadata": {},
   "source": [
    "Now we can print out are variables to see what they are. Note that a variable defined in a cell is what is known as a *global variable*, meaning that every single cell in this notebook now knows what `a`, `b`, and `c` are."
   ]
  },
  {
   "cell_type": "code",
   "execution_count": null,
   "id": "3ab89e99-85f0-403d-a586-29c66781d528",
   "metadata": {},
   "outputs": [],
   "source": [
    "print(a)\n",
    "print(b)\n",
    "print(c)"
   ]
  },
  {
   "cell_type": "markdown",
   "id": "ff844526-6d62-45b6-bd22-76cd89992a49",
   "metadata": {},
   "source": [
    "We can also print them all together like this:"
   ]
  },
  {
   "cell_type": "code",
   "execution_count": null,
   "id": "ff649371-ba58-4799-a698-0c46a2b4fbbb",
   "metadata": {},
   "outputs": [],
   "source": [
    "print(a,b,c)"
   ]
  },
  {
   "cell_type": "markdown",
   "id": "21e019ac-5773-48ee-9b2f-84ce841c4dfa",
   "metadata": {},
   "source": [
    "Note that we can also change a variable. But remember these are *global*. That means if you change a variable here and then go up and re-run the cells above, they will use the *new* value. This is why you must be careful! This kind of thing is why functions, which we will get to later, are so useful. It is often helpful, when conveniet, to define variables and use them in the same cell, rather than reference variables defined in different cells."
   ]
  },
  {
   "cell_type": "code",
   "execution_count": null,
   "id": "da64a54e-74d6-4cc2-8cbf-ea3bbffcc6c6",
   "metadata": {},
   "outputs": [],
   "source": [
    "b = 10\n",
    "print(b)"
   ]
  },
  {
   "cell_type": "code",
   "execution_count": null,
   "id": "e7906bd2-e9a6-4bdc-95d6-31a4925acbcd",
   "metadata": {},
   "outputs": [],
   "source": [
    "print(c)"
   ]
  },
  {
   "cell_type": "markdown",
   "id": "f9eb1cb3-db1f-4477-b1a4-b82646b0e895",
   "metadata": {},
   "source": [
    "Note that c hasn't changed, even though it used b before. That value from that calculation was stored as the number 30, not the equation you used."
   ]
  },
  {
   "cell_type": "markdown",
   "id": "715222a3-dcc7-4bbc-9429-2d6eb6ab1660",
   "metadata": {},
   "source": [
    "We'be been using the `print()` function a lot, but you don't always need to use it. See the following example:"
   ]
  },
  {
   "cell_type": "code",
   "execution_count": null,
   "id": "4b43480f-6df2-4fd1-a746-430641bdbe21",
   "metadata": {},
   "outputs": [],
   "source": [
    "print(a+b)\n",
    "c+b\n",
    "c+a"
   ]
  },
  {
   "cell_type": "markdown",
   "id": "01fe021c-c371-49d3-b0d6-7dcdc7315f92",
   "metadata": {},
   "source": [
    "The output from the last line is printed to the screen (but not the second to last line). In the following cells I will go back and forth using `print()` and just typing out what I want to print as the final line. General rule: if you want to print multiple things on multiple lines you will need to use `print()`. If you only care about one result, you don't need `print()`."
   ]
  },
  {
   "cell_type": "markdown",
   "id": "75f6fd5e-2b03-4c92-9f63-496f1702e5d8",
   "metadata": {},
   "source": [
    "Above, we used variables like `a`, `b` or `c` to keep track of numbers. As you see the variable `a` came into existance by a simple assignment `a=3`. After this assignment, the variable `a` is of integer type. You can check this by"
   ]
  },
  {
   "cell_type": "code",
   "execution_count": null,
   "id": "dea14cee-8561-4c51-87fc-d1a4b7db1452",
   "metadata": {
    "scrolled": true
   },
   "outputs": [],
   "source": [
    "a=3\n",
    "type(a)"
   ]
  },
  {
   "cell_type": "markdown",
   "id": "72ee297a-fe2d-432b-a840-a783fed161ba",
   "metadata": {},
   "source": [
    "If you assign a value with a decimal point, then you get a type known as floating point number"
   ]
  },
  {
   "cell_type": "code",
   "execution_count": null,
   "id": "a1cefe2c-e7f3-4ab5-be60-fad61902368e",
   "metadata": {},
   "outputs": [],
   "source": [
    "b=3.0\n",
    "type(b)"
   ]
  },
  {
   "cell_type": "markdown",
   "id": "c33556d5-b523-4c42-86ff-e2061e49dc4a",
   "metadata": {},
   "source": [
    "similarly you can have a piece of text (a \"string\") attached to a variable"
   ]
  },
  {
   "cell_type": "code",
   "execution_count": null,
   "id": "7fc9ca09-f7fc-4f70-bb97-31d74abe7da3",
   "metadata": {},
   "outputs": [],
   "source": [
    "c=\"3.0\"\n",
    "type(c)"
   ]
  },
  {
   "cell_type": "markdown",
   "id": "f568023c-f1a1-466a-9bae-b706f1d10a7d",
   "metadata": {},
   "source": [
    "Note, that both variables `b` and `c` have different types. Depending on the type of a variable, different operations are (or are not) possible. "
   ]
  },
  {
   "cell_type": "code",
   "execution_count": null,
   "id": "15d93b47-f759-44e4-b693-3fd74aace3b4",
   "metadata": {},
   "outputs": [],
   "source": [
    "print(b**2)\n",
    "print(c**2)"
   ]
  },
  {
   "cell_type": "markdown",
   "id": "40dae8ec-ea07-4de7-8b3c-1e3e7bafdf30",
   "metadata": {},
   "source": [
    "Here we got an error, which tells us that it makes no sense to square a string. It this therefore often useful to be able to convert between different types of variables. This conversion is done with the functions `str()`, `float()` and `int()`"
   ]
  },
  {
   "cell_type": "code",
   "execution_count": null,
   "id": "8adfd0ab-ee97-4b2c-9832-d6939ad6bf63",
   "metadata": {},
   "outputs": [],
   "source": [
    "a = str(3.0)\n",
    "b = str(2)\n",
    "print(a+b)\n",
    "anum = float(a)\n",
    "bnum = int(b)\n",
    "anum + bnum"
   ]
  },
  {
   "cell_type": "markdown",
   "id": "e78eb474-8bd8-416e-b74a-64d6c4ca1289",
   "metadata": {},
   "source": [
    "Strings can be added together, as we did above, but this is a very different process than adding numbers. Adding strings just sticks them together. Still this can be a very useful attribute!"
   ]
  },
  {
   "cell_type": "code",
   "execution_count": null,
   "id": "06465375-e56f-4e53-bbc0-79ed2e062e49",
   "metadata": {},
   "outputs": [],
   "source": [
    "string_1 = 'hi'\n",
    "string_2 = 'there'\n",
    "print(string_1+' '+string_2)"
   ]
  },
  {
   "cell_type": "markdown",
   "id": "53907e05-fda1-4b5e-8e4f-a011864a4c8a",
   "metadata": {
    "tags": []
   },
   "source": [
    "### Variable names and Tab completion\n",
    "\n",
    "Variables in Python can either be single letters (upper or lowercase) or a letter followed by an arbitrary number of letters or numbers. The underscore sign `_` is also allowed, but other symbols (`+`, `:`, `[`, etc) or spaces are not allowed in variable names.  \n",
    "\n",
    "In general, it is advised to choose variable names to document the intended use of the variable.  Note that you can also use *Tab completion* to complete your variable names which were defined earlier. For example consider a cell as follows:"
   ]
  },
  {
   "cell_type": "code",
   "execution_count": null,
   "id": "8117289d-1cfb-44ef-99f3-28cc2b56bd16",
   "metadata": {},
   "outputs": [],
   "source": [
    "long_variable_name = 3\n",
    "long_variable_which_is_a_string = \"A string\""
   ]
  },
  {
   "cell_type": "markdown",
   "id": "744f5d0b-39ea-48f6-bdc9-482739553c5f",
   "metadata": {},
   "source": [
    "After executing the cell, you can now use tab completion in a later cell to complete either variable name by typing the letters `lon` followed by the `Tab` key. This will bring up a little menu from which you can choose one or the other option with the `up` and `down` keys and then `return`.  Try it out!"
   ]
  },
  {
   "cell_type": "markdown",
   "id": "cc89585d-e1c5-4f8e-8fd9-79938dd493e8",
   "metadata": {},
   "source": [
    "## Comments\n",
    "\n",
    "It is so important to **comment your code**. These are notes you can put into a cell that will not be interpretted by python, so you can just write planely. These are lines starting with a `#` and followed by whatever will help you (and anyone else using your code) remember what you were doing. These can bo on their own line, or after your code on the same line."
   ]
  },
  {
   "cell_type": "code",
   "execution_count": null,
   "id": "bdbcb185-1ca7-4b30-aff6-7e3da3cfec27",
   "metadata": {},
   "outputs": [],
   "source": [
    "a = 9.8 # acceleration due to gravity (m/s^2)\n",
    "x0 = 0 # initial position (in m)\n",
    "v0 = 5 # initial velocity (in m/s)\n",
    "t = 10 # time in seconds\n",
    "\n",
    "#find the final position\n",
    "\n",
    "x = x0 + v0*t + 0.5*a*t**2\n",
    "print(x)"
   ]
  },
  {
   "cell_type": "markdown",
   "id": "0546e286-8d6b-4a36-8c78-442518610e2a",
   "metadata": {},
   "source": [
    "# Lists"
   ]
  },
  {
   "cell_type": "markdown",
   "id": "db799b34-19d3-4fbd-9181-a800ba2d9c51",
   "metadata": {},
   "source": [
    "Python variables can also contain lists of other objects. For example"
   ]
  },
  {
   "cell_type": "code",
   "execution_count": null,
   "id": "6d3dca90-c7f0-452a-ae39-904b2db62f06",
   "metadata": {},
   "outputs": [],
   "source": [
    "mylist = [1,5,3,8]"
   ]
  },
  {
   "cell_type": "markdown",
   "id": "10e3bc44-4856-459c-b92d-8283d7499cf5",
   "metadata": {},
   "source": [
    "after which the variable mylist contains all those numbers in the given order. If we want to output it, we simply write it on a line of its own:"
   ]
  },
  {
   "cell_type": "code",
   "execution_count": null,
   "id": "4df2a9fb-eed7-4080-aaf3-8ea20c913620",
   "metadata": {},
   "outputs": [],
   "source": [
    "mylist"
   ]
  },
  {
   "cell_type": "markdown",
   "id": "046bd2df-8ac0-4fa7-8143-c3c27d5dd581",
   "metadata": {},
   "source": [
    "the variable `mylist` is of type `list` as we can easily check "
   ]
  },
  {
   "cell_type": "code",
   "execution_count": null,
   "id": "4250f8bb-2bc2-4f6e-9790-8c0cb471651c",
   "metadata": {},
   "outputs": [],
   "source": [
    "type(mylist)"
   ]
  },
  {
   "cell_type": "markdown",
   "id": "4cbfb514-028e-411c-9ca5-dd627ea2b4d0",
   "metadata": {},
   "source": [
    "It is possible to access individual elements of the list as follows:"
   ]
  },
  {
   "cell_type": "code",
   "execution_count": null,
   "id": "7a6caba3-92ee-4c2b-b26a-b452b1234b9a",
   "metadata": {},
   "outputs": [],
   "source": [
    "mylist[1]"
   ]
  },
  {
   "cell_type": "markdown",
   "id": "0a959d14-f8b1-4c72-b105-a0b90e8f8467",
   "metadata": {},
   "source": [
    "but wait, is this what you expected? The first element in our list is a *1*, so why did we get a *5*? The reason is that Python (like many other computer languages) starts counting at zero not at one! This is called \"zero-based indexing\". In order to get the first element in the list we therefore need to write "
   ]
  },
  {
   "cell_type": "code",
   "execution_count": null,
   "id": "51629548-4262-4f01-b904-b78578a4e66a",
   "metadata": {},
   "outputs": [],
   "source": [
    "mylist[0]"
   ]
  },
  {
   "cell_type": "markdown",
   "id": "442c29ec-9069-4981-9faf-bed2ef40b777",
   "metadata": {},
   "source": [
    "We also often need to know the length of a list, which is simply"
   ]
  },
  {
   "cell_type": "code",
   "execution_count": null,
   "id": "9b685b72-d970-4ada-b00a-23370bb355f6",
   "metadata": {},
   "outputs": [],
   "source": [
    "len(mylist)"
   ]
  },
  {
   "cell_type": "markdown",
   "id": "da4de7a5-1b00-4ac1-98c0-52efc7c53685",
   "metadata": {
    "tags": []
   },
   "source": [
    "Therefore, in this case there are four elements in our list: namely, mylist[0] up to mylist[3]"
   ]
  },
  {
   "cell_type": "markdown",
   "id": "62b448bd-7534-4701-88b5-4311bd3afe89",
   "metadata": {
    "tags": []
   },
   "source": [
    "Very often, you might need to access the last element of a list, which is done with the following notation:"
   ]
  },
  {
   "cell_type": "code",
   "execution_count": null,
   "id": "9ba29f76-1565-42ab-a4c9-ea1e51570c56",
   "metadata": {},
   "outputs": [],
   "source": [
    "mylist[-1]"
   ]
  },
  {
   "cell_type": "markdown",
   "id": "5dd5a7bf-2f47-48e9-8c31-78c811c078fd",
   "metadata": {},
   "source": [
    "similarly "
   ]
  },
  {
   "cell_type": "code",
   "execution_count": null,
   "id": "89e6cdbb-0bbe-4609-84e7-5e43f979f1f7",
   "metadata": {},
   "outputs": [],
   "source": [
    "mylist[-2]"
   ]
  },
  {
   "cell_type": "markdown",
   "id": "848ef799-da46-4469-8cce-7ae34105a3cd",
   "metadata": {},
   "source": [
    "gets you the element before the last one."
   ]
  },
  {
   "cell_type": "markdown",
   "id": "981bff5f-8eae-4a59-8e6d-0c8639f80451",
   "metadata": {},
   "source": [
    "The most important operation which changes a list is to append an element at its end:"
   ]
  },
  {
   "cell_type": "code",
   "execution_count": null,
   "id": "1157a6d4-257f-43de-a88b-76b12ba52ba5",
   "metadata": {},
   "outputs": [],
   "source": [
    "mylist.append(9)\n",
    "mylist"
   ]
  },
  {
   "cell_type": "markdown",
   "id": "5db978de-759c-4256-940b-4454c244c5b1",
   "metadata": {},
   "source": [
    "Sometimes, we might also \"add\" two lists with `+`, which means that we simply concatenate them:"
   ]
  },
  {
   "cell_type": "code",
   "execution_count": null,
   "id": "9a30a686-a107-45a6-a249-7d885b14eeb1",
   "metadata": {},
   "outputs": [],
   "source": [
    "mylist1 = [2,3]\n",
    "mylist2 = [7,10]\n",
    "\n",
    "print(mylist1 + mylist2)"
   ]
  },
  {
   "cell_type": "markdown",
   "id": "05138003-6a69-45b6-a0b7-c3119d481e56",
   "metadata": {},
   "source": [
    "For example, try to understand, what the following snippet of code does:"
   ]
  },
  {
   "cell_type": "code",
   "execution_count": null,
   "id": "9d04e632-bffe-402a-b29a-6f8e6e56437e",
   "metadata": {},
   "outputs": [],
   "source": [
    "fiblist = [0,1]\n",
    "\n",
    "fiblist.append( fiblist[-1] + fiblist[-2])\n",
    "fiblist.append( fiblist[-1] + fiblist[-2])\n",
    "fiblist.append( fiblist[-1] + fiblist[-2])\n",
    "fiblist.append( fiblist[-1] + fiblist[-2])\n",
    "fiblist.append( fiblist[-1] + fiblist[-2])\n",
    "\n",
    "print(fiblist)"
   ]
  },
  {
   "cell_type": "markdown",
   "id": "10996be0-1c3b-4967-aed4-cb8439948eb9",
   "metadata": {},
   "source": [
    "## Indexing Lists"
   ]
  },
  {
   "cell_type": "markdown",
   "id": "6303b1ba-54cf-4978-b524-3a1d3f15f72f",
   "metadata": {},
   "source": [
    "There are a number of different ways of accessing parts of a list using **indexing** of the form `mylist[start:end:step]`. If we want to access a sublist of an existing list which consists of `k` elements and starts at index `start` we write `mylist[start:start+k]`.  We can also provide an optional step parameter, for example to only get every second element of the list we write `mylist[start:start+k:2]`. If `start` or `end` are left out, the lists are taken from the beginning or to the end, respectively. Try to understand the following syntax:"
   ]
  },
  {
   "cell_type": "code",
   "execution_count": null,
   "id": "2a94440c-5709-49fd-80bd-378f361af657",
   "metadata": {
    "scrolled": true
   },
   "outputs": [],
   "source": [
    "print(fiblist)\n",
    "print(fiblist[1:4]) #the second, third, and fourth values\n",
    "print(fiblist[:4]) #everything up to and including the fourth value\n",
    "print(fiblist[1:]) #everything after the first value"
   ]
  },
  {
   "cell_type": "markdown",
   "id": "64efeafb-2a7c-4144-8438-b19eb4f8caad",
   "metadata": {},
   "source": [
    "`-1` will always denote the final value of a list. Similarly, `-2` will be the second to last, etc."
   ]
  },
  {
   "cell_type": "code",
   "execution_count": null,
   "id": "07cb6d2d-83e7-46ca-a45f-a4f72441d282",
   "metadata": {},
   "outputs": [],
   "source": [
    "print(fiblist[-1]) #last value\n",
    "print(fiblist[-2]) #second to last value\n",
    "print(fiblist[1:-1]) #gives the second value (index 1) until the second to last value"
   ]
  },
  {
   "cell_type": "markdown",
   "id": "40edd752-4057-4d4f-8b96-8896effe281d",
   "metadata": {},
   "source": [
    "the `N::M` will start at index N (remember N goes from 0 to one less than the length of your list) and go every M values."
   ]
  },
  {
   "cell_type": "code",
   "execution_count": null,
   "id": "000bad0b-0fa0-44ef-bd16-acc12462dbee",
   "metadata": {},
   "outputs": [],
   "source": [
    "print(fiblist[1::2]) #start at index 1 and then every second value\n",
    "print(fiblist[1::3]) #start at index 1 and then every third value"
   ]
  },
  {
   "cell_type": "markdown",
   "id": "ee7e4429-755c-4594-b9e0-8bd9e61da5c2",
   "metadata": {},
   "source": [
    "The syntax `::-1` can be particularly useful, as it gives the reverse of the list. You can add other indexes before and between the two `:` for more complicated things. For example:"
   ]
  },
  {
   "cell_type": "code",
   "execution_count": null,
   "id": "f2137b24-94e8-4935-a0f6-8d2ff2353b6c",
   "metadata": {},
   "outputs": [],
   "source": [
    "print(fiblist[::-1]) #reverse list\n",
    "print(fiblist[:0:-1]) #reverse list excluding the first\n",
    "print(fiblist[:1:-1]) #reverse list excluding first and second\n",
    "print(fiblist[-2:1:-1]) #reverse list excluding the last, first, and second\n"
   ]
  },
  {
   "cell_type": "markdown",
   "id": "ceafc8d6-ce38-47c0-b930-8c3ac51d7d03",
   "metadata": {},
   "source": [
    "Indexing lists can get confusing. When in doubt, I often create a simple list (e.g. [1,2,3,4]) and try out an indexing to see if it does what I think it should do. "
   ]
  },
  {
   "cell_type": "markdown",
   "id": "40d93c5d-9af1-457f-8259-5c70658d7659",
   "metadata": {},
   "source": [
    "We can also manipulate a list as follows:"
   ]
  },
  {
   "cell_type": "code",
   "execution_count": null,
   "id": "98ba5af1-2405-4fd9-b1ec-43036336f410",
   "metadata": {
    "scrolled": true
   },
   "outputs": [],
   "source": [
    "print(fiblist)\n",
    "fiblist[2]=8888\n",
    "print(fiblist)\n",
    "fiblist.pop() #the pop() method will remove the last value by default\n",
    "print(fiblist)\n",
    "fiblist.pop(3) #if you provide pop with an argument, it will remove the value at that index\n",
    "print(fiblist)"
   ]
  },
  {
   "cell_type": "markdown",
   "id": "0b84c8a3-e2d7-4295-a778-8ed887963ec2",
   "metadata": {},
   "source": [
    "Alternatively, you can remove an element by specifying its value."
   ]
  },
  {
   "cell_type": "code",
   "execution_count": null,
   "id": "6e190c0f-c82c-4298-a818-2ae367d5ccd1",
   "metadata": {},
   "outputs": [],
   "source": [
    "fiblist.remove(8888)\n",
    "print(fiblist)"
   ]
  },
  {
   "cell_type": "markdown",
   "id": "d155e31c-a21c-4c65-a5d7-1026c9859b34",
   "metadata": {},
   "source": [
    "If there are two elements with the same value, the first one is removed. If there is no such value, the command returns an error.\n",
    "\n",
    "Similarly, you can insert element into the list at specific indices."
   ]
  },
  {
   "cell_type": "code",
   "execution_count": null,
   "id": "984aaf89-63ef-490c-8634-551245726c91",
   "metadata": {},
   "outputs": [],
   "source": [
    "fiblist.insert(2,1) #the general syntax for insert() is insert(index, value)\n",
    "fiblist.insert(3,2)\n",
    "fiblist.insert(len(fiblist),377)\n",
    "print(fiblist)"
   ]
  },
  {
   "cell_type": "markdown",
   "id": "7db21d3f-d508-43a7-af5a-3deaea2a482e",
   "metadata": {},
   "source": [
    "### Functions for lists\n",
    "\n",
    "There are several built-in functions that are useful for lists, and specifically lists of numbers. We already saw the `len()` function, but there is also `min()`, `max()`, `sum()`, and `sorted()`. All of these take a list of numbers as an argument. "
   ]
  },
  {
   "cell_type": "code",
   "execution_count": null,
   "id": "57bb162a-ac5c-4af7-8792-d939f48fb9c6",
   "metadata": {},
   "outputs": [],
   "source": [
    "my_new_list = [11, 15, 40, 3, 55, 27, 104, 24] #make a new list\n",
    "print(len(my_new_list)) #length\n",
    "print(max(my_new_list)) #maximum value of the list\n",
    "print(min(my_new_list)) #minimum value of the list"
   ]
  },
  {
   "cell_type": "code",
   "execution_count": null,
   "id": "9e49b19e-598b-4b60-afa2-3aea16c820dc",
   "metadata": {},
   "outputs": [],
   "source": [
    "sum(my_new_list) #sums up all the values in the list"
   ]
  },
  {
   "cell_type": "code",
   "execution_count": null,
   "id": "2c4fe4d9-f689-4bcd-b524-3f2d56a7aa1d",
   "metadata": {},
   "outputs": [],
   "source": [
    "sorted(my_new_list) #returns a NEW list with the same values, only in increasing order"
   ]
  },
  {
   "cell_type": "code",
   "execution_count": null,
   "id": "4fd811c2-05bf-4882-a805-91e715b9f717",
   "metadata": {},
   "outputs": [],
   "source": [
    "print(my_new_list) #Note that none of these functions changed the list itself"
   ]
  },
  {
   "cell_type": "markdown",
   "id": "d3625ad5-040a-448f-9fc4-6f6561d3e21b",
   "metadata": {
    "tags": []
   },
   "source": [
    "# The *while* loop"
   ]
  },
  {
   "cell_type": "markdown",
   "id": "e39f7753-3e8e-4c9f-86b1-a41a3010656d",
   "metadata": {},
   "source": [
    "Let's calculate the *Fibonacci Sequence*. What can we do, if we would like to calculate the first 15 elements of this sequence? We could just copy and paste from a sequence already produced (like what we started with above) or we could utilize the general mathematical formula to generate the list starting with just the first two elements, 0 and 1."
   ]
  },
  {
   "cell_type": "code",
   "execution_count": null,
   "id": "6c2b510b-e4b0-4882-bb74-538be8891ba1",
   "metadata": {},
   "outputs": [],
   "source": [
    "fiblist = [0,1] #initialize our list\n",
    "\n",
    "while len(fiblist) < 15:\n",
    "    fiblist.append( fiblist[-1] + fiblist[-2]) #each new element is the sum of the previous two\n",
    "\n",
    "print(fiblist)"
   ]
  },
  {
   "cell_type": "markdown",
   "id": "24075f55-056f-406e-a16c-5c8a21ab32e1",
   "metadata": {},
   "source": [
    "Let us look more closely at what has happened here. In the `while` line, we check if the length of the list is less than 15. If that is the case we execute the indented part which appends a new element to our list. This gets iterated as long as the condition in the while command is fulfilled. Note the use of indentation here. The end of the while loop is indicated by the lack of indentation in the \"fiblist\" line. **Indentation is very important in python, and forces you to format your code in a well structured way.** Consider, for example, the difference between the two following blocks of code: "
   ]
  },
  {
   "cell_type": "code",
   "execution_count": null,
   "id": "cd75d170-f410-4df8-a34b-3620930f7a93",
   "metadata": {},
   "outputs": [],
   "source": [
    "fiblist = [0,1]\n",
    "\n",
    "while len(fiblist) < 15:\n",
    "    fiblist.append( fiblist[-1] + fiblist[-2])\n",
    "    print(fiblist[-1])"
   ]
  },
  {
   "cell_type": "code",
   "execution_count": null,
   "id": "7827d1e8-7b57-4242-8d27-f50cea965c7d",
   "metadata": {},
   "outputs": [],
   "source": [
    "fiblist = [0,1]\n",
    "\n",
    "while len(fiblist) < 15:\n",
    "    fiblist.append( fiblist[-1] + fiblist[-2])\n",
    "print(fiblist[-1])"
   ]
  },
  {
   "cell_type": "markdown",
   "id": "638e887f-0499-497a-86b1-47f72604b98b",
   "metadata": {},
   "source": [
    "Do you understand the difference between the two? The only difference is in the indentation of the `print` line. If this line is indented, it belongs to the while loop, if it is not indented, then it is executed *after* the while loop.\n",
    "\n",
    "So, while space doesn't matter when doing things like mathematical expressions (`a+b` is the same as `a + b`) spacing, in particular *indentation*, does matter when it comes to loops and, as we will see later, functions."
   ]
  },
  {
   "cell_type": "markdown",
   "id": "8c9c7f34-94c1-4ff0-aafe-159f82e0ded4",
   "metadata": {
    "tags": []
   },
   "source": [
    "# The *For* Loop \n",
    "\n",
    "The *while* loop introduced above loops over a piece of code until a condition **fails** to be met. There is another very important loop: the *for* loop, which loops over some specific iteration of numbers or objects."
   ]
  },
  {
   "cell_type": "code",
   "execution_count": null,
   "id": "2a1564ad-24c8-4644-926f-1189f78a4ea3",
   "metadata": {},
   "outputs": [],
   "source": [
    "for i in range(10): #loop over numbers 0 to 9, stored in the variable i\n",
    "    cube = i**3\n",
    "    print(\"The cube of \" + str(i) + \" is \" + str(cube))"
   ]
  },
  {
   "cell_type": "markdown",
   "id": "a58d9d53-32cb-4fc0-afef-8089f88104e7",
   "metadata": {},
   "source": [
    "Note again how we used indentation to denote the scope of the `for` loop. Similar to the while loop, the indentation started after the colon (\":\") symbol. Note also that in this case, it is not necessary to write `list(range(10))`. Instead of `range(10)` you could of course also provide any list of numbers you are interested in knowing the cube of:"
   ]
  },
  {
   "cell_type": "code",
   "execution_count": null,
   "id": "02b1cef3-b601-495f-8251-f7f7dd72cae7",
   "metadata": {},
   "outputs": [],
   "source": [
    "for i in [2.3, 6.23, -3, 19, 0, -12]:\n",
    "    cube = i**3\n",
    "    print(\"The cube of \" + str(i) + \" is \" + str(cube))"
   ]
  },
  {
   "cell_type": "markdown",
   "id": "5fc665af-d978-42d6-9ec1-e3497a954e01",
   "metadata": {},
   "source": [
    "Equivalently, if you already have a list of number, you may write"
   ]
  },
  {
   "cell_type": "code",
   "execution_count": null,
   "id": "7ac9ea87-6b90-4794-9b73-96b705f41267",
   "metadata": {},
   "outputs": [],
   "source": [
    "mylist=[2.3, 6.23, -3, 19, 0, -12]\n",
    "for i in mylist:\n",
    "    cube = i**3\n",
    "    print(\"The cube of \" + str(i) + \" is \" + str(cube))"
   ]
  },
  {
   "cell_type": "markdown",
   "id": "b11aab00-7900-405e-939a-d7a33f7a4a48",
   "metadata": {},
   "source": [
    "It is often a powerful tool to loop over indices, rather than the list itself. Here is a very simple example.\n"
   ]
  },
  {
   "cell_type": "code",
   "execution_count": null,
   "id": "3593dd11-12a7-47fa-af37-29855b1a354f",
   "metadata": {},
   "outputs": [],
   "source": [
    "for i in range(len(mylist)): # we want i to go from 0 to N-1, where N is the length of the list\n",
    "    print(i, mylist[i],mylist[i]**2)"
   ]
  },
  {
   "cell_type": "markdown",
   "id": "473a4d45-efcb-4e46-9d10-e2a7ca7c73c2",
   "metadata": {},
   "source": [
    "## Boolean Expressions\n",
    "\n",
    "We have made use of expressions of the form `while a < b` or `if a == b` and similar to compare `a` and `b`. In general, expressions which can only attain the values `True` or `False` are called *Boolean Expressions*, after [George Boole](https://en.wikipedia.org/wiki/George_Boole), the first professor of Mathematics at Queen's College, Cork (now UCC). George Boole (1815-1864) invented Symbolic Logic (now called Boolean algebra), which is the basis of modern computer science.  Simple examples of Boolean Expressions are"
   ]
  },
  {
   "cell_type": "code",
   "execution_count": null,
   "id": "280241a5-6c5a-436e-b8b8-107830e74874",
   "metadata": {},
   "outputs": [],
   "source": [
    "1 < 0"
   ]
  },
  {
   "cell_type": "code",
   "execution_count": null,
   "id": "293c403d-4b36-4126-af7c-4bc2ad23d69c",
   "metadata": {},
   "outputs": [],
   "source": [
    "0 < 1"
   ]
  },
  {
   "cell_type": "code",
   "execution_count": null,
   "id": "bbdaf85b-714b-42d1-9541-57c161634a45",
   "metadata": {},
   "outputs": [],
   "source": [
    "3 == 3"
   ]
  },
  {
   "cell_type": "markdown",
   "id": "1fa9b8bd-dbb1-43ba-891d-6918d4c0ef1f",
   "metadata": {},
   "source": [
    "It is also possible to combine Boolean Expressions with `and`, `or` and `not`, for example"
   ]
  },
  {
   "cell_type": "code",
   "execution_count": null,
   "id": "b68ce266-21b5-4e97-8da6-358a824c1fff",
   "metadata": {},
   "outputs": [],
   "source": [
    "not (1 < 0)"
   ]
  },
  {
   "cell_type": "code",
   "execution_count": null,
   "id": "93cd4b0e-883d-40cc-9cff-3a8e6ffa0808",
   "metadata": {},
   "outputs": [],
   "source": [
    "(1 == 1) and (2 <= 3)"
   ]
  },
  {
   "cell_type": "code",
   "execution_count": null,
   "id": "d87158de-fabf-4ced-9fef-bc3c42617df3",
   "metadata": {},
   "outputs": [],
   "source": [
    "(1 == 1) and (2 <= 1)"
   ]
  },
  {
   "cell_type": "code",
   "execution_count": null,
   "id": "3c48b951-7157-4092-bf7c-67b56dfb5562",
   "metadata": {},
   "outputs": [],
   "source": [
    "(1 == 1) or (2 <= 1)"
   ]
  },
  {
   "cell_type": "markdown",
   "id": "bd2e529e-a9b6-4e8f-99b3-93c3cad94a12",
   "metadata": {},
   "source": [
    "Finally *Boolean expressions* can also be assigned to *Boolean variables*, for example"
   ]
  },
  {
   "cell_type": "code",
   "execution_count": null,
   "id": "1093fac3-9f83-4fda-81b7-7a432ed56b67",
   "metadata": {},
   "outputs": [],
   "source": [
    "a = 1\n",
    "b = 2\n",
    "bv = a < b\n",
    "type(bv), bv"
   ]
  },
  {
   "cell_type": "markdown",
   "id": "12a883d6-4bbb-4b83-b688-8de93c03e82b",
   "metadata": {},
   "source": [
    "You can also directly set Boolean variables to `True` or `False` (note the capitalization of these keywords):"
   ]
  },
  {
   "cell_type": "code",
   "execution_count": null,
   "id": "e53d914d-2e9e-40c5-a3fc-85e80c2506f1",
   "metadata": {
    "tags": []
   },
   "outputs": [],
   "source": [
    "mybvt = True\n",
    "mybvf = False\n",
    "mybvt, type(mybvt), mybvf, type(mybvf)"
   ]
  },
  {
   "cell_type": "markdown",
   "id": "c9b850d0-db96-47e9-bbff-0758bd5cccc7",
   "metadata": {},
   "source": [
    "# *IF* and *Else* Statements\n",
    "\n",
    "These use the boolean values discussed above to determine when to run certain pieces of code. They are often useful within loops. `else` will run the following code when the previous `if` isn't met. A bit more complicated, `elif` will run the snippet of code after it only when the previous statement failed and a different condition is true. Below are a few examples"
   ]
  },
  {
   "cell_type": "code",
   "execution_count": null,
   "id": "3b8cc557-e6a9-49f8-b9b4-5a44af988671",
   "metadata": {},
   "outputs": [],
   "source": [
    "for i in [2.3, 6.23, -3, 19, 0, -12]:\n",
    "    if i > 0:\n",
    "        print( str(i) + \" is bigger than zero\")\n",
    "    else:\n",
    "        if i > -5: \n",
    "            print( str(i) + \" is not bigger than zero but bigger than -5\")\n",
    "        else:\n",
    "            print( str(i) + \" is not bigger than zero and not bigger than -5\")"
   ]
  },
  {
   "cell_type": "code",
   "execution_count": null,
   "id": "ad4d9718-fd88-497d-8a3c-be10c7181af7",
   "metadata": {},
   "outputs": [],
   "source": [
    "for i in [2.3, 6.23, -3, 19, 0, -12]:\n",
    "    if i > 0:\n",
    "        print( str(i) + \" is bigger than zero\")\n",
    "    elif i > -5: \n",
    "        print( str(i) + \" is not bigger than zero but bigger than -5\")\n",
    "    else:\n",
    "        print( str(i) + \" is not bigger than zero and not bigger than -5\")"
   ]
  },
  {
   "cell_type": "markdown",
   "id": "78b6fd8d-1848-492c-80be-f7a5d7af6058",
   "metadata": {},
   "source": [
    "# Making Your Own Functions\n",
    "\n",
    "While we've already discussed built-in functions in python, it is often useful to define your own. The general syntax to do this is the following:"
   ]
  },
  {
   "cell_type": "code",
   "execution_count": null,
   "id": "4d2c2834-d601-4e57-bb04-6279a24ae829",
   "metadata": {},
   "outputs": [],
   "source": [
    "def my_new_function(x):\n",
    "    #write code to do stuff with the inputs here\n",
    "    new_variable = x*5\n",
    "    return new_variable #the return statement will allow your function to provide some new output"
   ]
  },
  {
   "cell_type": "code",
   "execution_count": null,
   "id": "55d3d383-7791-4d6e-aeb3-b35629d0715d",
   "metadata": {},
   "outputs": [],
   "source": [
    "# Let's try out our new function here\n",
    "\n",
    "my_new_function(5)"
   ]
  },
  {
   "cell_type": "code",
   "execution_count": null,
   "id": "8b01efa2-e085-44a4-a85d-63076923222f",
   "metadata": {},
   "outputs": [],
   "source": [
    "# We can set the output of the function to new variables too\n",
    "y = my_new_function(5)\n",
    "print(y)"
   ]
  },
  {
   "cell_type": "markdown",
   "id": "db4d7a65-ffca-45af-abf8-43a983c682bb",
   "metadata": {},
   "source": [
    "Let's make things a bit more complicated. Let us consider again our Fibonacci code snippet\n",
    "\n",
    "    fiblist = [0,1]\n",
    "    while len(fiblist) < 15:\n",
    "        fiblist.append( fiblist[-1] + fiblist[-2])\n",
    "    print(fiblist)\n",
    "which prints a list of the first 15 Fibonacci numbers. If we want to calculate the first 20 numbers, we would need to change the `15` into `20`, but this does not seem very elegant. Instead let us define a function:"
   ]
  },
  {
   "cell_type": "code",
   "execution_count": null,
   "id": "2dc75470-6a3e-4a66-bb72-f9e701aed2ed",
   "metadata": {},
   "outputs": [],
   "source": [
    "def fibprint(n):\n",
    "    fiblist = [0,1]\n",
    "    while len(fiblist) < n:\n",
    "        fiblist.append( fiblist[-1] + fiblist[-2])\n",
    "    print(fiblist)"
   ]
  },
  {
   "cell_type": "markdown",
   "id": "e918e6d5-eb67-43eb-823b-e610abd0b96d",
   "metadata": {},
   "source": [
    "The core of this function is precisely as the previous code snippet, but with `15` replaced by `n`. The variable `n` appears as a *parameter* in the function definition.  We can use the function as follows:"
   ]
  },
  {
   "cell_type": "code",
   "execution_count": null,
   "id": "74ff5787-8f83-4440-8c61-537891c27a92",
   "metadata": {},
   "outputs": [],
   "source": [
    "fibprint(7)"
   ]
  },
  {
   "cell_type": "markdown",
   "id": "96f7ec97-95e0-479f-b12c-9daec7ec2f10",
   "metadata": {},
   "source": [
    "i.e. the function is called with the *argument* 7. This results in setting the parmeter `n` to the value 7 and then executes the core of the function."
   ]
  },
  {
   "cell_type": "code",
   "execution_count": null,
   "id": "2b6d695f-1505-4e13-bf1f-02b9c72d00b8",
   "metadata": {},
   "outputs": [],
   "source": [
    "fibprint(20)"
   ]
  },
  {
   "cell_type": "markdown",
   "id": "61733292-a680-4ae1-b2a7-e89c5b5183de",
   "metadata": {},
   "source": [
    "Functions can also have more than one argument or no argument at all. \n",
    "\n",
    "In our case, we might like to generalise our function, so that we can change the starting points of our Fibonacci sequence to values which are different from  0 and 1.  For example, look at the following:"
   ]
  },
  {
   "cell_type": "code",
   "execution_count": null,
   "id": "46b67541-2950-4c82-ab76-65d12bc4a7a0",
   "metadata": {
    "tags": []
   },
   "outputs": [],
   "source": [
    "def fibprintnew(n, a=0, b=1):\n",
    "    fiblist = [a, b]\n",
    "    while len(fiblist) < n:\n",
    "        fiblist.append( fiblist[-1] + fiblist[-2])\n",
    "    print(fiblist)"
   ]
  },
  {
   "cell_type": "code",
   "execution_count": null,
   "id": "bc8b1ace-4de0-4cbd-ae11-686ddb840910",
   "metadata": {},
   "outputs": [],
   "source": [
    "fibprintnew(7,3,2)"
   ]
  },
  {
   "cell_type": "markdown",
   "id": "92536ecf-6004-4640-b344-85a8a9cba5a8",
   "metadata": {},
   "source": [
    "This means that we call the function with the three arguments 7, 3, and 2. The parameter `n` takes on the first argument 7, the parameters `a` and `b` become a 3 and 2, respectively. Therefore during this call, the first line of the body of the function effectively reads `fiblist = [3, 2]`.\n",
    "\n",
    "Note that in the parameter list we wrote `a=0` and `b=1`.  This means that we give default values for these parameters, in case they are left out when the function is called:"
   ]
  },
  {
   "cell_type": "code",
   "execution_count": null,
   "id": "03945287-b29a-401c-b807-ae4ec4aa1384",
   "metadata": {},
   "outputs": [],
   "source": [
    "fibprintnew(7)"
   ]
  },
  {
   "cell_type": "markdown",
   "id": "65ff8d09-5916-4f8e-8530-9041d74faba9",
   "metadata": {},
   "source": [
    "This means that if we call `fibprintnew` with only one argument, then we obtain the standard Fibonacci sequence. This means the arguments for `a` and `b` are optional because they assume their specified default values when called. On the other hand the argument for `n` is mandatory, because we did not specify any default. What do you think should happen, if we call the function with *two* arguments? Let's try it out:"
   ]
  },
  {
   "cell_type": "code",
   "execution_count": null,
   "id": "6e7f87d3-cb9f-4e7c-ba7f-959daf1daca2",
   "metadata": {},
   "outputs": [],
   "source": [
    "fibprintnew(7,3)"
   ]
  },
  {
   "cell_type": "markdown",
   "id": "1cc76df5-8faf-415d-ad70-676e83df148f",
   "metadata": {},
   "source": [
    "Now the parameter `a` takes the value `3` and the parameter `b` takes its default value `1`. Can we also leave `a` at its default value and only set the value for `b`? Yes, but we need to specify the parameter name explicitly as follows:"
   ]
  },
  {
   "cell_type": "code",
   "execution_count": null,
   "id": "d1c8a340-46d8-4400-bb87-2e92c2c1b0c2",
   "metadata": {},
   "outputs": [],
   "source": [
    "fibprintnew(7,b=5)"
   ]
  },
  {
   "cell_type": "markdown",
   "id": "bd1758c3-ac88-4079-a752-1eecf7851c92",
   "metadata": {},
   "source": [
    "Sometimes we might only be interested in the last Fibonacci number, and do not require the full list. In this case we can use a simpler implementation, which does not use lists at all:"
   ]
  },
  {
   "cell_type": "markdown",
   "id": "fa2eea5b-9d61-4c96-a035-e7233e2cd30f",
   "metadata": {},
   "source": [
    "## Scope of Variables \n",
    "\n",
    "One reason functions are so useful to writing clean code is that the variables defined within a function are only known *within that function*. So, if I define a variable `a` outside a function, all of my cells (including my function!) will know what `a` is. But if I define `b` within my function, no other cell will know what `b` represents. This can help you avoid unfortunate mixups with variables being changed in between re-running cells."
   ]
  },
  {
   "cell_type": "code",
   "execution_count": null,
   "id": "1c12b9fd-5c9d-4283-b2ba-d302a7d24de0",
   "metadata": {},
   "outputs": [],
   "source": [
    "# This function will give you an error when you try to access q outside of the function\n",
    "\n",
    "a = 10 # global variable\n",
    "def testfunc(x):\n",
    "    q = x*a\n",
    "    return q\n",
    "\n",
    "print(testfunc(10))\n",
    "print(a)\n",
    "print(q)"
   ]
  },
  {
   "cell_type": "code",
   "execution_count": null,
   "id": "5b8431d0-77d6-4a1a-bbdd-862b69a836cc",
   "metadata": {},
   "outputs": [],
   "source": [
    "# Here's what would happen if you name variables the same... \n",
    "# try to avoid this because it will be confusing!\n",
    "\n",
    "a = 10 # global variable\n",
    "q = 20\n",
    "def testfunc(x):\n",
    "    q = x*a\n",
    "    print('q in the function',q)\n",
    "    return q\n",
    "\n",
    "print('function x = 60', testfunc(60))\n",
    "print('a', a)\n",
    "print('q outside function', q)"
   ]
  },
  {
   "cell_type": "markdown",
   "id": "36a21f16-8be4-41c3-bfd9-93f05d432043",
   "metadata": {},
   "source": [
    "# Exercise\n",
    "\n",
    "a) Create a function called `third_deg_poly()` that takes in some variable `x` returns the value of a polynomial of the form $Ax^3 + Bx^2 + Cx + D$ where A, B, C, and D are provided by the user, with default values of 1, 5, 10, and 20 respectively.\n",
    "\n",
    "b) Create another function (named whatever you want) that returns a **list** of `N` values such that it has the form $[x_0, x_1, x_2, ...]$ such that $x_N = $third_deg_poly$(x_{N-1})$ and with $x_0$, `N` provided by the user. Make it so that the user could change the coefficients of of the polynomial when they call your new function, but that they keep the same default values as in part (a)"
   ]
  },
  {
   "cell_type": "code",
   "execution_count": null,
   "id": "ac9f9183-bb67-4322-8d92-7cb0beb8cc1b",
   "metadata": {},
   "outputs": [],
   "source": []
  }
 ],
 "metadata": {
  "kernelspec": {
   "display_name": "Python 3 (ipykernel)",
   "language": "python",
   "name": "python3"
  },
  "language_info": {
   "codemirror_mode": {
    "name": "ipython",
    "version": 3
   },
   "file_extension": ".py",
   "mimetype": "text/x-python",
   "name": "python",
   "nbconvert_exporter": "python",
   "pygments_lexer": "ipython3",
   "version": "3.10.14"
  }
 },
 "nbformat": 4,
 "nbformat_minor": 5
}
